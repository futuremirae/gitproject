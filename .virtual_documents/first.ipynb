print('member1 작업')


print('member1 또 작업')


print('member1 또또 작업')


print('NEW  작업')






