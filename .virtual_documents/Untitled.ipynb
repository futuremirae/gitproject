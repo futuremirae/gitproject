print('member1 작업')
