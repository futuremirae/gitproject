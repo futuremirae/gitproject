{
 "cells": [
  {
   "cell_type": "code",
   "execution_count": null,
   "id": "372a310d-3f29-469f-8ce2-02b04a1605a1",
   "metadata": {},
   "outputs": [],
   "source": [
    "print('member1 작업')"
   ]
  },
  {
   "cell_type": "code",
   "execution_count": null,
   "id": "eee67f25-630c-4598-8b44-6902048d8664",
   "metadata": {},
   "outputs": [],
   "source": [
    "print('member1 또 작업')"
   ]
  },
  {
   "cell_type": "code",
   "execution_count": null,
   "id": "4f53bb06-4a1a-43ab-b3f9-3bc048dac5a5",
   "metadata": {},
   "outputs": [],
   "source": [
    "print('member1 또또 작업')"
   ]
  },
  {
   "cell_type": "code",
   "execution_count": null,
   "id": "792020b2-13f3-4f57-9e0b-1f52ba7ca89e",
   "metadata": {},
   "outputs": [],
   "source": [
    "print('NEW  작업')"
   ]
  },
  {
   "cell_type": "code",
   "execution_count": null,
   "id": "21cc1ad8-5416-4020-9c0c-543825be8e5a",
   "metadata": {},
   "outputs": [],
   "source": [
    "print('전우치 작업')"
   ]
  },
  {
   "cell_type": "code",
   "execution_count": null,
   "id": "5054608b-5173-4ec9-9887-9491cc67aa97",
   "metadata": {},
   "outputs": [],
   "source": []
  }
 ],
 "metadata": {
  "kernelspec": {
   "display_name": "Python 3 (ipykernel)",
   "language": "python",
   "name": "python3"
  },
  "language_info": {
   "codemirror_mode": {
    "name": "ipython",
    "version": 3
   },
   "file_extension": ".py",
   "mimetype": "text/x-python",
   "name": "python",
   "nbconvert_exporter": "python",
   "pygments_lexer": "ipython3",
   "version": "3.11.5"
  }
 },
 "nbformat": 4,
 "nbformat_minor": 5
}
